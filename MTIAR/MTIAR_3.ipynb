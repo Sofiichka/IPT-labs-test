{
 "cells": [
  {
   "cell_type": "code",
   "execution_count": null,
   "metadata": {},
   "outputs": [],
   "source": []
  },
  {
   "cell_type": "code",
   "execution_count": 14,
   "metadata": {},
   "outputs": [],
   "source": [
    "\n",
    "from scipy.special import expit \n",
    "import random \n",
    "import math "
   ]
  },
  {
   "cell_type": "code",
   "execution_count": 15,
   "metadata": {},
   "outputs": [],
   "source": [
    "x1 = 1 \n",
    "x2 = 0 \n",
    "w1 = 0.3 \n",
    "w2 = 0.8 \n",
    "w3 = 0.2 \n",
    "w4 = 0.1 \n",
    "w5 = 1.5 \n",
    "w6 = 1.8"
   ]
  },
  {
   "cell_type": "code",
   "execution_count": 16,
   "metadata": {},
   "outputs": [
    {
     "name": "stdout",
     "output_type": "stream",
     "text": [
      "Input h1:  0.3\n",
      "Input h2:  0.8\n",
      "Output h1:  0.57\n",
      "Output h2:  0.69\n",
      "Input o1:  2.097\n",
      "Output o1:  0.89\n",
      "Network MSE:  0.012\n"
     ]
    }
   ],
   "source": [
    "h1_input = (x1 * w1) + (x2 * w3) \n",
    "h2_input = (x1 * w2) + (x2 * w4) \n",
    "h1_output = round(expit(h1_input), 2) \n",
    "h2_output = round(expit(h2_input), 2) \n",
    "o1_input = (h1_output * w5) + (h2_output * w6) \n",
    "o1_output = round(expit(o1_input), 2) \n",
    "MSE = round((pow((1 - o1_output), 2) / 1), 3) \n",
    " \n",
    "print(\"Input h1: \", h1_input) \n",
    "print(\"Input h2: \", h2_input) \n",
    "print(\"Output h1: \", h1_output) \n",
    "print(\"Output h2: \", h2_output) \n",
    "print(\"Input o1: \", o1_input) \n",
    "print(\"Output o1: \", o1_output) \n",
    "print(\"Network MSE: \", MSE)"
   ]
  },
  {
   "cell_type": "code",
   "execution_count": 17,
   "metadata": {},
   "outputs": [
    {
     "name": "stdout",
     "output_type": "stream",
     "text": [
      "Input h1:  1.75\n",
      "Input h2:  1.45\n",
      "Output h1:  0.85\n",
      "Output h2:  0.81\n",
      "Input o1:  1.6284\n",
      "Output o1:  0.84\n",
      "Network MSE:  0.026\n"
     ]
    }
   ],
   "source": [
    "x1 = 1 \n",
    "x2 = 0 \n",
    "w1_1 = round(random.uniform(0, 2), 2) \n",
    "w2_1 = round(random.uniform(0, 2), 2) \n",
    "w3_1 = round(random.uniform(0, 2), 2) \n",
    "w4_1 = round(random.uniform(0, 2), 2) \n",
    "w5_1 = round(random.uniform(0, 2), 2)\n",
    "w6_1 = round(random.uniform(0, 2), 2) \n",
    " \n",
    "h1_input_1 = (x1 * w1_1) + (x2 * w3_1) \n",
    "h2_input_1 = (x1 * w2_1) + (x2 * w4_1) \n",
    "h1_output_1 = round(expit(h1_input_1), 2) \n",
    "h2_output_1 = round(expit(h2_input_1), 2) \n",
    "o1_input_1 = (h1_output_1 * w5_1) + (h2_output_1 * w6_1) \n",
    "o1_output_1 = round(expit(o1_input_1), 2) \n",
    "MSE_1 = round((pow((1 - o1_output_1), 2) / 1), 3) \n",
    " \n",
    "print(\"Input h1: \", h1_input_1) \n",
    "print(\"Input h2: \", h2_input_1) \n",
    "print(\"Output h1: \", h1_output_1) \n",
    "print(\"Output h2: \", h2_output_1) \n",
    "print(\"Input o1: \", o1_input_1) \n",
    "print(\"Output o1: \", o1_output_1) \n",
    "print(\"Network MSE: \", MSE_1) "
   ]
  },
  {
   "cell_type": "code",
   "execution_count": 18,
   "metadata": {},
   "outputs": [
    {
     "name": "stdout",
     "output_type": "stream",
     "text": [
      "Input h1:  0.34\n",
      "Input h2:  2.14\n",
      "Output h1:  0.58\n",
      "Output h2:  0.89\n",
      "Input o1:  3.5785\n",
      "Output o1:  0.97\n",
      "Network MSE:  0.001\n"
     ]
    }
   ],
   "source": [
    "x1 = 1 \n",
    "x2 = 0 \n",
    "w1_2 = round(random.uniform(0, 3), 2) \n",
    "w2_2 = round(random.uniform(0, 3), 2) \n",
    "w3_2 = round(random.uniform(0, 3), 2) \n",
    "w4_2 = round(random.uniform(0, 3), 2) \n",
    "w5_2 = round(random.uniform(0, 3), 2) \n",
    "w6_2 = round(random.uniform(0, 3), 2) \n",
    " \n",
    "h1_input_2 = (x1 * w1_2) + (x2 * w3_2) \n",
    "h2_input_2 = (x1 * w2_2) + (x2 * w4_2) \n",
    "h1_output_2 = round(expit(h1_input_2), 2) \n",
    "h2_output_2 = round(expit(h2_input_2), 2) \n",
    "o1_input_2 = (h1_output_2 * w5_2) + (h2_output_2 * w6_2) \n",
    "o1_output_2 = round(expit(o1_input_2), 2) \n",
    "MSE_2 = round((pow((1 - o1_output_2), 2) / 1), 3) \n",
    " \n",
    "print(\"Input h1: \",h1_input_2) \n",
    "print(\"Input h2: \",h2_input_2) \n",
    "print(\"Output h1: \",h1_output_2) \n",
    "print(\"Output h2: \",h2_output_2) \n",
    "print(\"Input o1: \",o1_input_2) \n",
    "print(\"Output o1: \",o1_output_2) \n",
    "print(\"Network MSE: \",MSE_2)"
   ]
  },
  {
   "cell_type": "code",
   "execution_count": 20,
   "metadata": {},
   "outputs": [
    {
     "name": "stdout",
     "output_type": "stream",
     "text": [
      "Network RMSE:  0.196\n"
     ]
    }
   ],
   "source": [
    "RMSE = round(math.sqrt((pow((1 - o1_output), 2) + pow((1 - o1_output_1), 2) + pow((1 - o1_output_2), 2))), 3)\n",
    "print(\"Network RMSE: \", RMSE)"
   ]
  },
  {
   "cell_type": "code",
   "execution_count": null,
   "metadata": {},
   "outputs": [],
   "source": []
  }
 ],
 "metadata": {
  "interpreter": {
   "hash": "e7370f93d1d0cde622a1f8e1c04877d8463912d04d973331ad4851f04de6915a"
  },
  "kernelspec": {
   "display_name": "Python 3 (ipykernel)",
   "language": "python",
   "name": "python3"
  },
  "language_info": {
   "codemirror_mode": {
    "name": "ipython",
    "version": 3
   },
   "file_extension": ".py",
   "mimetype": "text/x-python",
   "name": "python",
   "nbconvert_exporter": "python",
   "pygments_lexer": "ipython3",
   "version": "3.9.7"
  }
 },
 "nbformat": 4,
 "nbformat_minor": 2
}
