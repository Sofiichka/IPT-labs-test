{
  "nbformat": 4,
  "nbformat_minor": 0,
  "metadata": {
    "colab": {
      "name": "KozlovskaMMPR_2l.ipynb",
      "provenance": [],
      "collapsed_sections": [],
      "authorship_tag": "ABX9TyMCOVyVjN+iHoyu6yfHeVTW",
      "include_colab_link": true
    },
    "kernelspec": {
      "name": "python3",
      "display_name": "Python 3"
    },
    "language_info": {
      "name": "python"
    }
  },
  "cells": [
    {
      "cell_type": "markdown",
      "metadata": {
        "id": "view-in-github",
        "colab_type": "text"
      },
      "source": [
        "<a href=\"https://colab.research.google.com/github/Sofiichka/IPT-labs-test/blob/master/KozlovskaMMPR_2l.ipynb\" target=\"_parent\"><img src=\"https://colab.research.google.com/assets/colab-badge.svg\" alt=\"Open In Colab\"/></a>"
      ]
    },
    {
      "cell_type": "markdown",
      "source": [
        "##Завдання:\n",
        "Збагачувальна фабрика отримує 4 види вугілля у таких кількостях: 400, 250, 350 і 100 тис. т. Унаслідок змішування цих чотирьох компонентів у різних пропорціях утворюється три сорти концентрату: А (1 : 1 : 1 : 1), Б (3 : 1 : 2 : 1) і В (2 : 2 : 1: 3). Вартість 1 тис. т концентрату дорівнює 120, 100 і 150 грн відповідно. Визначити оптимальний план випуску продукції, що забезпечує досягнення її максимальної сумарної вартості та максимальної кількості.\n",
        "#Розв'язування\n",
        "\n",
        "## Створюємо математичну модель задачі\n",
        "Сумарний обсяг концентратів (цільова функція), перша направлена на максимальноу кількість товару, а друга направлена на максимальну вартість товару.\n",
        "\n",
        "$f_1(x) = x_{11} + x_{12} + x_{13} + x_{14} + 3x_{21} + x_{22} + 2x_{23} + x_{24} + 2x_{31} + 2x_{32} + x_{33} + 3x_{34} \\to max;$\n",
        "\n",
        "$f_2(x) = 120*(x_{11} + x_{12} + x_{13} + x_{14}) + 100(3x_{21} + x_{22} + 2x_{23} + x_{24}) + 150(2x_{31} + 2x_{32} + x_{33} + 3x_{34}) \\to max;$\n",
        "\n",
        "Тож, остаточно отримаємо наступну **математичну модель**:\n",
        "\n",
        "$f_1(x) = x_{11} + x_{12} + x_{13} + x_{14} + 3x_{21} + x_{22} + 2x_{23} + x_{24} + 2x_{31} + 2x_{32} + x_{33} + 3x_{34} \\to max;$\n",
        "\n",
        "$f_2(x) = 120x_{11} + 120x_{12} + 120x_{13} + 120x_{14} + 300x_{21} + 100x_{22} + 200x_{23} + 100x_{24} + 300x_{31} + 300x_{32} + 150x_{33} + 450x_{34} \\to max;$\n",
        "\n",
        "$x_{11} + x_{21} + x_{31} \\leq 400,$\n",
        "\n",
        "$x_{12} + x_{22} + x_{32} \\leq 250,$\n",
        "\n",
        "$x_{13} + x_{23} + x_{33} \\leq 350,$\n",
        "\n",
        "$x_{14} + x_{24} + x_{34} \\leq 100,$\n",
        "\n",
        "$x_{11}, x_{12}, x_{13}, x_{14}, x_{21}, x_{22}, x_{23}, x_{24}, x_{31}, x_{32}, x_{33}, x_{34} \\geq 0.$"
      ],
      "metadata": {
        "id": "QIvDNfjczNCK"
      }
    },
    {
      "cell_type": "markdown",
      "source": [
        "![image.png](data:image/png;base64,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)"
      ],
      "metadata": {
        "id": "jxzcONhJwnQt"
      }
    },
    {
      "cell_type": "markdown",
      "source": [
        "**Перший критерій**\n",
        "\n",
        "$f_1(x) = x_{11} + x_{12} + x_{13} + x_{14} + 3x_{21} + x_{22} + 2x_{23} + x_{24} + 2x_{31} + 2x_{32} + x_{33} + 3x_{34} \\to max;$\n",
        "\n",
        "$x_{11} + x_{21} + x_{31} \\leq 400,$\n",
        "\n",
        "$x_{12} + x_{22} + x_{32} \\leq 250,$\n",
        "\n",
        "$x_{13} + x_{23} + x_{33} \\leq 350,$\n",
        "\n",
        "$x_{14} + x_{24} + x_{34} \\leq 100,$\n",
        "\n",
        "$x_{11}, x_{12}, x_{13}, x_{14}, x_{21}, x_{22}, x_{23}, x_{24}, x_{31}, x_{32}, x_{33}, x_{34} \\geq 0.$"
      ],
      "metadata": {
        "id": "ygySVyWYwAYw"
      }
    },
    {
      "cell_type": "code",
      "source": [
        "from scipy.optimize import linprog\n",
        "#\n",
        "# Шукаємо максимальне значченя першої цільової функції\n",
        "#\n",
        "# Пам'ятаємо, що максимум дорівнюватиме від'ємному значенню від'ємної функції\n",
        "# max(f) = -min(-f)\n",
        "#\n",
        "obj = [-1, -1, -1, -1, -3, -1, -2, -1, -2, -2, -1, -3]\n",
        "\n",
        "lhs_ineq = [[1, 0, 0, 0, 1, 0, 0, 0, 1, 0, 0, 0],\n",
        "            [0, 1, 0, 0, 0, 1, 0, 0, 0, 1, 0, 0],\n",
        "            [0, 0, 1, 0, 0, 0, 1, 0, 0, 0, 1, 0],\n",
        "            [0, 0, 0, 1, 0, 0, 0, 1, 0, 0, 0, 1]]\n",
        "\n",
        "rhs_ineq = [400, 250, 350, 100]\n",
        "\n",
        "bnd = [(0, float('inf')),\n",
        "      (0, float('inf')),\n",
        "      (0, float('inf')),\n",
        "      (0, float('inf')),\n",
        "      (0, float('inf')),\n",
        "      (0, float('inf')),\n",
        "      (0, float('inf')),\n",
        "      (0, float('inf')),\n",
        "      (0, float('inf')),\n",
        "      (0, float('inf')),  \n",
        "      (0, float('inf')),  \n",
        "      (0, float('inf'))]  \n",
        "\n",
        "opt = linprog(c = obj, A_ub = lhs_ineq, b_ub = rhs_ineq, bounds = bnd, method = 'simplex')\n",
        "print('Optimal value:', round(opt.fun * (-1), ndigits = 2),\n",
        "      '\\nNumber of iterations:', opt.nit)"
      ],
      "metadata": {
        "colab": {
          "base_uri": "https://localhost:8080/"
        },
        "id": "Kfk9-okdwMWC",
        "outputId": "bbc32d9e-ce6d-4781-ff8e-7fe1069ffc18"
      },
      "execution_count": 18,
      "outputs": [
        {
          "output_type": "stream",
          "name": "stdout",
          "text": [
            "Optimal value: 2700.0 \n",
            "Number of iterations: 8\n"
          ]
        }
      ]
    },
    {
      "cell_type": "code",
      "source": [
        "from scipy.optimize import linprog\n",
        "#\n",
        "# Шукаємо мінімальне значченя першої цільової функції\n",
        "#\n",
        "obj = [1, 1, 1, 1, 3, 1, 2, 1, 2, 2, 1, 3]\n",
        "\n",
        "lhs_ineq = [[1, 0, 0, 0, 1, 0, 0, 0, 1, 0, 0, 0],\n",
        "           [0, 1, 0, 0, 0, 1, 0, 0, 0, 1, 0, 0],\n",
        "           [0, 0, 1, 0, 0, 0, 1, 0, 0, 0, 1, 0],\n",
        "           [0, 0, 0, 1, 0, 0, 0, 1, 0, 0, 0, 1]]\n",
        "\n",
        "rhs_ineq = [400, 250, 350, 100]\n",
        "\n",
        "bnd = [(0, float('inf')),\n",
        "      (0, float('inf')),\n",
        "      (0, float('inf')),\n",
        "      (0, float('inf')),\n",
        "      (0, float('inf')),\n",
        "      (0, float('inf')),\n",
        "      (0, float('inf')),\n",
        "      (0, float('inf')),\n",
        "      (0, float('inf')),\n",
        "      (0, float('inf')),  \n",
        "      (0, float('inf')),  \n",
        "      (0, float('inf'))] \n",
        "\n",
        "opt = linprog(c = obj, A_ub = lhs_ineq, b_ub = rhs_ineq, bounds = bnd, method = 'simplex')\n",
        "print('Optimal value:', round(opt.fun, ndigits = 2),\n",
        "      '\\nNumber of iterations:', opt.nit,)"
      ],
      "metadata": {
        "colab": {
          "base_uri": "https://localhost:8080/"
        },
        "id": "CKXVqE_pwVwP",
        "outputId": "548d9d1e-01f8-46a2-df4f-2577c5226ad4"
      },
      "execution_count": 19,
      "outputs": [
        {
          "output_type": "stream",
          "name": "stdout",
          "text": [
            "Optimal value: 0.0 \n",
            "Number of iterations: 8\n"
          ]
        }
      ]
    },
    {
      "cell_type": "markdown",
      "source": [
        "### Тепер необхідно нормалізувати критерій, враховуючи, що він максимізується:\n",
        "\n",
        "$f^n_1(x) = \\dfrac{2700 - (x_{11} + x_{12} + x_{13} + x_{14} + 3x_{21} + x_{22} + 2x_{23} + x_{24} + 2x_{31} + 2x_{32} + x_{33} + 3x_{34})}{2700}$\n",
        "\n",
        "$f^n_1(x) = 1 - 0,00037037x_{11} - 0,00037037x_{12} - 0,00037037x_{13} - 0,00037037x_{14} - 0,001111111x_{21} - 0,00037037x_{22} - 0,000740741x_{23} - 0,00037037x_{24} - 0,000740741x_{31} - 0,000740741x_{32} - 0,00037037x_{33} - 0,001111111x_{34}$"
      ],
      "metadata": {
        "id": "QcxeXZVPwjsv"
      }
    },
    {
      "cell_type": "markdown",
      "source": [
        "---\n",
        "\n",
        "**Другий критерій**\n",
        "\n",
        "$f_2(x) = 120x_{11} + 120x_{12} + 120x_{13} + 120x_{14} + 300x_{21} + 100x_{22} + 200x_{23} + 100x_{24} + 300x_{31} + 300x_{32} + 150x_{33} + 450x_{34} \\to max;$\n",
        "\n",
        "$x_{11} + x_{21} + x_{31} \\leq 400,$\n",
        "\n",
        "$x_{12} + x_{22} + x_{32} \\leq 250,$\n",
        "\n",
        "$x_{13} + x_{23} + x_{33} \\leq 350,$\n",
        "\n",
        "$x_{14} + x_{24} + x_{34} \\leq 100,$"
      ],
      "metadata": {
        "id": "MrGxvxv7wpy7"
      }
    },
    {
      "cell_type": "code",
      "source": [
        "from scipy.optimize import linprog\n",
        "#\n",
        "# Шукаємо максимальне значченя другої цільової функції\n",
        "#\n",
        "obj = [120, 120, 120, 120, 300, 100, 200, 100, 300, 300, 150, 450]\n",
        "\n",
        "lhs_ineq = [[1, 0, 0, 0, 1, 0, 0, 0, 1, 0, 0, 0],\n",
        "           [0, 1, 0, 0, 0, 1, 0, 0, 0, 1, 0, 0],\n",
        "           [0, 0, 1, 0, 0, 0, 1, 0, 0, 0, 1, 0],\n",
        "           [0, 0, 0, 1, 0, 0, 0, 1, 0, 0, 0, 1]]\n",
        "\n",
        "rhs_ineq = [400, 250, 350, 100]\n",
        "\n",
        "bnd = [(0, float('inf')),\n",
        "      (0, float('inf')),\n",
        "      (0, float('inf')),\n",
        "      (0, float('inf')),\n",
        "      (0, float('inf')),\n",
        "      (0, float('inf')),\n",
        "      (0, float('inf')),\n",
        "      (0, float('inf')),\n",
        "      (0, float('inf')),\n",
        "      (0, float('inf')),  \n",
        "      (0, float('inf')),  \n",
        "      (0, float('inf'))] \n",
        "\n",
        "opt = linprog(c = obj, A_ub = lhs_ineq, b_ub = rhs_ineq, bounds = bnd, method = 'simplex')\n",
        "print('Optimal value:', round(opt.fun, ndigits = 2),\n",
        "      '\\nNumber of iterations:', opt.nit)"
      ],
      "metadata": {
        "id": "ySAYJVcYwruD",
        "outputId": "cbfbbce3-99fa-4878-c759-5a5f6404e62e",
        "colab": {
          "base_uri": "https://localhost:8080/"
        }
      },
      "execution_count": 20,
      "outputs": [
        {
          "output_type": "stream",
          "name": "stdout",
          "text": [
            "Optimal value: 0.0 \n",
            "Number of iterations: 8\n"
          ]
        }
      ]
    },
    {
      "cell_type": "code",
      "source": [
        "from scipy.optimize import linprog\n",
        "#\n",
        "# Шукаємо мінімальне значченя другої цільової функції\n",
        "#\n",
        "obj = [-120, -120, -120, -120, -300, -100, -200, -100, -300, -300, -150, -450]\n",
        "\n",
        "lhs_ineq = [[1, 0, 0, 0, 1, 0, 0, 0, 1, 0, 0, 0],\n",
        "           [0, 1, 0, 0, 0, 1, 0, 0, 0, 1, 0, 0],\n",
        "           [0, 0, 1, 0, 0, 0, 1, 0, 0, 0, 1, 0],\n",
        "           [0, 0, 0, 1, 0, 0, 0, 1, 0, 0, 0, 1]]\n",
        "\n",
        "rhs_ineq = [400, 250, 350, 100]\n",
        "\n",
        "bnd = [(0, float('inf')),\n",
        "      (0, float('inf')),\n",
        "      (0, float('inf')),\n",
        "      (0, float('inf')),\n",
        "      (0, float('inf')),\n",
        "      (0, float('inf')),\n",
        "      (0, float('inf')),\n",
        "      (0, float('inf')),\n",
        "      (0, float('inf')),\n",
        "      (0, float('inf')),  \n",
        "      (0, float('inf')),  \n",
        "      (0, float('inf'))] \n",
        "\n",
        "opt = linprog(c = obj, A_ub = lhs_ineq, b_ub = rhs_ineq, bounds = bnd, method = 'simplex')\n",
        "print('Optimal value:', round(opt.fun * (-1), ndigits = 2),\n",
        "      '\\nNumber of iterations:', opt.nit)"
      ],
      "metadata": {
        "id": "W4061Yvi1Mlx",
        "outputId": "b650f5db-76ba-4ff5-a1c1-59ea5e66f9a7",
        "colab": {
          "base_uri": "https://localhost:8080/"
        }
      },
      "execution_count": 21,
      "outputs": [
        {
          "output_type": "stream",
          "name": "stdout",
          "text": [
            "Optimal value: 310000.0 \n",
            "Number of iterations: 8\n"
          ]
        }
      ]
    },
    {
      "cell_type": "markdown",
      "source": [
        "###Тепер необхідно нормалізувати критерій, враховуючи, що він максимізується:\n",
        "\n",
        "$f^n_2(x) = \\frac{310000 - (120x_{11} + 120x_{12} + 120x_{13} + 120x_{14} + 300x_{21} + 100x_{22} + 200x_{23} + 100x_{24} + 300x_{31} + 300x_{32} + 150x_{33} + 450x_{34})}{310000}$\n",
        "\n",
        "$f^n_2(x) = 1 - 0,00038x_{11} - 0,00038x_{12} - 0,00038x_{13} - 0,00038x_{14} - 0,00096x_{21} - 0,00032x_{22} - 0,00064x_{23} - 0,00032x_{24} - 0,00096x_{31} - 0,00096x_{32} - 0,00048x_{33} - 0,00145x_{34}$"
      ],
      "metadata": {
        "id": "ogdAVJkk1QxF"
      }
    },
    {
      "cell_type": "markdown",
      "source": [
        "###Тепер дана задача набуває наступного вигляду:\n",
        "\n",
        "$f^n_1(x) = 1 - 0,00037037x_{11} - 0,00037037x_{12} - 0,00037037x_{13} - 0,00037037x_{14} - 0,001111111x_{21} - 0,00037037x_{22} - 0,000740741x_{23} - 0,00037037x_{24} - 0,000740741x_{31} - 0,000740741x_{32} - 0,00037037x_{33} - 0,001111111x_{34}$\n",
        "\n",
        "$f^n_2(x) = 1 - 0,00038x_{11} - 0,00038x_{12} - 0,00038x_{13} - 0,00038x_{14} - 0,00096x_{21} - 0,00032x_{22} - 0,00064x_{23} - 0,00032x_{24} - 0,00096x_{31} - 0,00096x_{32} - 0,00048x_{33} - 0,00145x_{34}$\n",
        "\n",
        "\n",
        "$x_{11} + x_{21} + x_{31} \\leq 400,$\n",
        "\n",
        "$x_{12} + x_{22} + x_{32} \\leq 250,$\n",
        "\n",
        "$x_{13} + x_{23} + x_{33} \\leq 350,$\n",
        "\n",
        "$x_{14} + x_{24} + x_{34} \\leq 100,$\n",
        "\n",
        "Дану задачу ми розв'язуємо методом згортки. Будемо вважати, що експерти оцінили значущість критеріїв так: $\\alpha_1 = 0,7$ та $\\alpha_2 = 0,3$.\n",
        "\n",
        "Використовуючи лінійну адитивну згортку, ми отримаємо наступний узагальнений критерій:\n",
        "\n",
        "$F(x) = \\alpha_1 f^n_1(x) + \\alpha_2 f^n_2(x) = 0.7*(1 - 0,00037037x_{11} - 0,00037037x_{12} - 0,00037037x_{13} - 0,00037037x_{14} - 0,001111111x_{21} - 0,00037037x_{22} - 0,000740741x_{23} - 0,00037037x_{24} - 0,000740741x_{31} - 0,000740741x_{32} - 0,00037037x_{33} - 0,001111111x_{34}) + 0.3*(1 - 0,00038x_{11} - 0,00038x_{12} - 0,00038x_{13} - 0,00038x_{14} - 0,00096x_{21} - 0,00032x_{22} - 0,00064x_{23} - 0,00032x_{24} - 0,00096x_{31} - 0,00096x_{32} - 0,00048x_{33} - 0,00145x_{34}) =\n",
        "0.7 \n",
        "- 0.00025x_{11} - 0.00025x_{12} - 0.00025x_{13} - 0.00025x_{14} \n",
        "- 0.00077x_{21} - 0.00025x_{22} - 0.00051x_{23} - 0.00025x_{24} \n",
        "- 0.00051x_{31} - 0.00051x_{32} - 0.00025x_{33} - 0.00077x_{34} \n",
        "+ 0.3 \n",
        "- 0.000114x_{11} - 0.000114x_{12} - 0.000114x_{13} - 0.000114x_{14} \n",
        "- 0.000288x_{21} - 0.000096x_{22} - 0.000192x_{23} - 0.000096x_{24}\n",
        "- 0.000288x_{31} - 0.000288x_{32} - 0.000144x_{33} - 0.000435x_{34}\n",
        "= 1 \n",
        "- 0.00036x_{11} - 0.00036x_{12} - 0.00036x_{13} - 0.00036x_{14} \n",
        "- 0.00105x_{21} - 0.000346x_{22} - 0.000702x_{23} - 0.000346x_{24}\n",
        "- 0.000798x_{31} - 0.000798x_{32} - 0.000394x_{33} - 0.001205x_{34}\n",
        "$\n",
        "\n",
        "###Тоді наша задача набуває такого вигляду:\n",
        "$\n",
        "F(x) = 1 - 0.00036x_{11} - 0.00036x_{12} - 0.00036x_{13} - 0.00036x_{14} - 0.00105x_{21} - 0.000346x_{22} - 0.000702x_{23} - 0.000346x_{24} - 0.000798x_{31} - 0.000798x_{32} - 0.000394x_{33} - 0.001205x_{34}\n",
        "\\to max;$\n",
        "\n",
        "$x_{11} + x_{21} + x_{31} \\leq 400,$\n",
        "\n",
        "$x_{12} + x_{22} + x_{32} \\leq 250,$\n",
        "\n",
        "$x_{13} + x_{23} + x_{33} \\leq 350,$\n",
        "\n",
        "$x_{14} + x_{24} + x_{34} \\leq 100,$\n",
        "\n",
        "$x_{11}, x_{12}, x_{13}, x_{21}, x_{22}, x_{23}, x_{31}, x_{32}, x_{33} \\geq 0.$\n"
      ],
      "metadata": {
        "id": "Zf-hrkYF1RqE"
      }
    },
    {
      "cell_type": "markdown",
      "source": [
        "## Метод згортки"
      ],
      "metadata": {
        "id": "Ra14G4vt6raN"
      }
    },
    {
      "cell_type": "code",
      "source": [
        "## Метод згортки\n",
        "# мінімальне значення F\n",
        "#\n",
        "from scipy.optimize import linprog\n",
        "obj = [-0.00036, -0.00036, -0.00036, -0.00036, -0.00105, -0.000346, -0.000702, -0.000346, -0.000798, -0.000798, -0.000394, -0.001205] \n",
        "\n",
        "lhs_ineq = [[1, 0, 0, 0, 1, 0, 0, 0, 1, 0, 0, 0],\n",
        "           [0, 1, 0, 0, 0, 1, 0, 0, 0, 1, 0, 0],\n",
        "           [0, 0, 1, 0, 0, 0, 1, 0, 0, 0, 1, 0],\n",
        "           [0, 0, 0, 1, 0, 0, 0, 1, 0, 0, 0, 1]]\n",
        "\n",
        "rhs_ineq = [400, 250, 350, 100]\n",
        "\n",
        "bnd = [(0, float('inf')),\n",
        "      (0, float('inf')),\n",
        "      (0, float('inf')),\n",
        "      (0, float('inf')),\n",
        "      (0, float('inf')),\n",
        "      (0, float('inf')),\n",
        "      (0, float('inf')),\n",
        "      (0, float('inf')),\n",
        "      (0, float('inf')),\n",
        "      (0, float('inf')),  \n",
        "      (0, float('inf')),  \n",
        "      (0, float('inf'))] \n",
        "\n",
        "opt = linprog(c = obj, A_ub = lhs_ineq, b_ub = rhs_ineq, bounds = bnd, method = 'simplex')\n",
        "print('Optimal value:', round(opt.fun + 0.2, ndigits = 2),\n",
        "      '\\nValues for х:', opt.x,\n",
        "      '\\nNumber of iterations:', opt.nit)"
      ],
      "metadata": {
        "colab": {
          "base_uri": "https://localhost:8080/"
        },
        "id": "cBN5J3AN6lOL",
        "outputId": "7ad5909f-af9b-46a4-a216-b8680b44299c"
      },
      "execution_count": 22,
      "outputs": [
        {
          "output_type": "stream",
          "name": "stdout",
          "text": [
            "Optimal value: -0.79 \n",
            "Values for х: [  0.   0.   0.   0. 400.   0. 350.   0.   0. 250.   0. 100.] \n",
            "Number of iterations: 8\n"
          ]
        }
      ]
    },
    {
      "cell_type": "markdown",
      "source": [
        "##Метод головного критерію"
      ],
      "metadata": {
        "id": "WsgtGX3y8d1s"
      }
    },
    {
      "cell_type": "markdown",
      "source": [
        "#####Будемо розв'язувати дану задачу, вважаючи, що перший критерій більш значущий, ніж другий. Нормалізація тут не потрібна. \n",
        "#####Тому сформулюємо додаткові обмеження для другого критерію. Нехай максимально допустимий рівень витрат становитиме 15 000 грн.\n",
        "##### Тоді, наша задача буде виглядати наступним чином:"
      ],
      "metadata": {
        "id": "AICxBKxDr74o"
      }
    },
    {
      "cell_type": "code",
      "source": [
        "# Пошук максимального значення f1\n",
        "# max(f) = -min(-f)\n",
        "obj = [-1, -1, -1, -1, -3, -1, -2, -1, -2, -2, -1, -3] # Коефіцієнти цільової функції\n",
        "lhs_ineq = [[120, 120, 120, 120, 300, 100, 200, 100, 300, 300, 150, 450], # Коефіцієнти лівої частини першої нерівності\n",
        " [1, 0, 0, 0, 1, 0, 0, 0, 1, 0, 0, 0], # Коефіцієнти лівої частини другої нерівності\n",
        " [0, 1, 0, 0, 0, 1, 0, 0, 0, 1, 0, 0], # Коефіцієнти лівої частини третьої нерівності\n",
        " [0, 0, 1, 0, 0, 0, 1, 0, 0, 0, 1, 0], # Коефіцієнти лівої частини четвертої нерівності\n",
        " [0, 0, 0, 1, 0, 0, 0, 1, 0, 0, 0, 1]] # Коефіцієнти лівої частини п'ятої нерівності\n",
        "rhs_ineq = [15000, 400, 250, 350, 100] # Коефіцієнти правих частин відповідних нерівностей\n",
        "bnd = [(0, float('inf')), # Границі х11\n",
        " (0, float('inf')), # Границі х12\n",
        " (0, float('inf')), # Границі х13\n",
        " (0, float('inf')), # Границі х21\n",
        " (0, float('inf')), # Границі х22\n",
        " (0, float('inf')), \n",
        " (0, float('inf')),  \n",
        " (0, float('inf')), \n",
        " (0, float('inf')), \n",
        " (0, float('inf')), \n",
        " (0, float('inf')), \n",
        " (0, float('inf'))] \n",
        "opt = linprog(c = obj, A_ub = lhs_ineq, b_ub = rhs_ineq, bounds = bnd, method = 'simplex')\n",
        "print('Оптимальне значення:', round(opt.fun * (-1), ndigits = 2),\n",
        " '\\nЗначення для х:', opt.x,\n",
        " '\\nКількість ітерацій:', opt.nit,\n",
        " '\\nСтатус:', opt.message)"
      ],
      "metadata": {
        "id": "Z0VQfHOAyJXF",
        "outputId": "a019904b-ab5b-471e-f295-c67af192eadb",
        "colab": {
          "base_uri": "https://localhost:8080/"
        }
      },
      "execution_count": 26,
      "outputs": [
        {
          "output_type": "stream",
          "name": "stdout",
          "text": [
            "Оптимальне значення: 150.0 \n",
            "Значення для х: [ 0.  0.  0.  0. 50.  0.  0.  0.  0.  0.  0.  0.] \n",
            "Кількість ітерацій: 6 \n",
            "Статус: Optimization terminated successfully.\n"
          ]
        }
      ]
    },
    {
      "cell_type": "markdown",
      "source": [
        ""
      ],
      "metadata": {
        "id": "c7Tfjm7vr-SH"
      }
    }
  ]
}