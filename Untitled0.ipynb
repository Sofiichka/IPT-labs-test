{
  "nbformat": 4,
  "nbformat_minor": 0,
  "metadata": {
    "colab": {
      "name": "Untitled0.ipynb",
      "provenance": [],
      "collapsed_sections": [],
      "authorship_tag": "ABX9TyNzEHUnQkBzA3i3m4jc/A4F",
      "include_colab_link": true
    },
    "kernelspec": {
      "name": "python3",
      "display_name": "Python 3"
    },
    "language_info": {
      "name": "python"
    }
  },
  "cells": [
    {
      "cell_type": "markdown",
      "metadata": {
        "id": "view-in-github",
        "colab_type": "text"
      },
      "source": [
        "<a href=\"https://colab.research.google.com/github/Sofiichka/IPT-labs-test/blob/master/Untitled0.ipynb\" target=\"_parent\"><img src=\"https://colab.research.google.com/assets/colab-badge.svg\" alt=\"Open In Colab\"/></a>"
      ]
    },
    {
      "cell_type": "code",
      "metadata": {
        "id": "2ai0jcBKdcDn"
      },
      "source": [
        "# Импорт необходимых библиотек\n",
        "from scipy.special import expit\n",
        "import random\n",
        "import math\n"
      ],
      "execution_count": 5,
      "outputs": []
    },
    {
      "cell_type": "code",
      "metadata": {
        "id": "VFor7xyNdhS2"
      },
      "source": [
        "x1 = 1\n",
        "x2 = 0\n",
        "w1 = 0.3\n",
        "w2 = 0.8\n",
        "w3 = 0.2\n",
        "w4 = 0.1\n",
        "w5 = 1.5\n",
        "w6 = 1.8"
      ],
      "execution_count": 19,
      "outputs": []
    },
    {
      "cell_type": "code",
      "metadata": {
        "colab": {
          "base_uri": "https://localhost:8080/"
        },
        "id": "B8Xwd5Qldl2B",
        "outputId": "331bc8ba-1b69-4c4d-f000-9642c8e3b56e"
      },
      "source": [
        "h1_input = (x1 * w1) + (x2 * w3)\n",
        "h2_input = (x1 * w2) + (x2 * w4)\n",
        "h1_output = round(expit(h1_input), 2)\n",
        "h2_output = round(expit(h2_input), 2)\n",
        "o1_input = (h1_output * w5) + (h2_output * w6)\n",
        "o1_output = round(expit(o1_input), 2)\n",
        "MSE = round((pow((1 - o1_output), 2) / 1), 3)\n",
        "print(f\"Input h1: {h1_input}\")\n",
        "print(f\"Input h2: {h2_input}\")\n",
        "print(f\"Output h1: {h1_output}\")\n",
        "print(f\"Output h2: {h2_output}\")\n",
        "print(f\"Input o1: {o1_input}\")\n",
        "print(f\"Output o1: {o1_output}\")\n",
        "print(f\"Network MSE: {MSE}\")"
      ],
      "execution_count": 20,
      "outputs": [
        {
          "output_type": "stream",
          "name": "stdout",
          "text": [
            "Input h1: 0.3\n",
            "Input h2: 0.8\n",
            "Output h1: 0.57\n",
            "Output h2: 0.69\n",
            "Input o1: 2.097\n",
            "Output o1: 0.89\n",
            "Network MSE: 0.012\n"
          ]
        }
      ]
    },
    {
      "cell_type": "code",
      "metadata": {
        "colab": {
          "base_uri": "https://localhost:8080/"
        },
        "id": "tJPrK2sNdq7r",
        "outputId": "0531df80-ec75-42f7-860d-cff864b8625e"
      },
      "source": [
        "x1 = 1\n",
        "x2 = 0\n",
        "w1_1 = round(random.uniform(0, 2), 2)\n",
        "w2_1 = round(random.uniform(0, 2), 2)\n",
        "w3_1 = round(random.uniform(0, 2), 2)\n",
        "w4_1 = round(random.uniform(0, 2), 2)\n",
        "w5_1 = round(random.uniform(0, 2), 2)\n",
        "w6_1 = round(random.uniform(0, 2), 2)\n",
        "\n",
        "h1_input_1 = (x1 * w1_1) + (x2 * w3_1)\n",
        "h2_input_1 = (x1 * w2_1) + (x2 * w4_1)\n",
        "h1_output_1 = round(expit(h1_input_1), 2)\n",
        "h2_output_1 = round(expit(h2_input_1), 2)\n",
        "o1_input_1 = (h1_output_1 * w5_1) + (h2_output_1 * w6_1)\n",
        "o1_output_1 = round(expit(o1_input_1), 2)\n",
        "MSE_1 = round((pow((1 - o1_output_1), 2) / 1), 3)\n",
        "\n",
        "print(f\"Input h1: {h1_input_1}\")\n",
        "print(f\"Input h2: {h2_input_1}\")\n",
        "print(f\"Output h1: {h1_output_1}\")\n",
        "print(f\"Output h2: {h2_output_1}\")\n",
        "print(f\"Input o1: {o1_input_1}\")\n",
        "print(f\"Output o1: {o1_output_1}\")\n",
        "print(f\"Network MSE: {MSE_1}\")\n"
      ],
      "execution_count": 9,
      "outputs": [
        {
          "output_type": "stream",
          "name": "stdout",
          "text": [
            "Input h1: 0.87\n",
            "Input h2: 0.1\n",
            "Output h1: 0.7\n",
            "Output h2: 0.52\n",
            "Input o1: 0.1224\n",
            "Output o1: 0.53\n",
            "Network MSE: 0.221\n"
          ]
        }
      ]
    },
    {
      "cell_type": "code",
      "metadata": {
        "colab": {
          "base_uri": "https://localhost:8080/"
        },
        "id": "CnQFPqpleQ4J",
        "outputId": "403d933a-6282-4291-c6ab-f0714d53d0a3"
      },
      "source": [
        "x1 = 1\n",
        "x2 = 0\n",
        "w1_2 = round(random.uniform(0, 3), 2)\n",
        "w2_2 = round(random.uniform(0, 3), 2)\n",
        "w3_2 = round(random.uniform(0, 3), 2)\n",
        "w4_2 = round(random.uniform(0, 3), 2)\n",
        "w5_2 = round(random.uniform(0, 3), 2)\n",
        "w6_2 = round(random.uniform(0, 3), 2)\n",
        "h1_input_2 = (x1 * w1_2) + (x2 * w3_2)\n",
        "h2_input_2 = (x1 * w2_2) + (x2 * w4_2)\n",
        "h1_output_2 = round(expit(h1_input_2), 2)\n",
        "h2_output_2 = round(expit(h2_input_2), 2)\n",
        "o1_input_2 = (h1_output_2 * w5_2) + (h2_output_2 * w6_2)\n",
        "o1_output_2 = round(expit(o1_input_2), 2)\n",
        "MSE_2 = round((pow((1 - o1_output_2), 2) / 1), 3)\n",
        "print(f\"Input h1: {h1_input_2}\")\n",
        "print(f\"Input h2: {h2_input_2}\")\n",
        "print(f\"Output h1: {h1_output_2}\")\n",
        "print(f\"Output h2: {h2_output_2}\")\n",
        "print(f\"Input o1: {o1_input_2}\")\n",
        "print(f\"Output o1: {o1_output_2}\")\n",
        "print(f\"Network MSE: {MSE_2}\")"
      ],
      "execution_count": 10,
      "outputs": [
        {
          "output_type": "stream",
          "name": "stdout",
          "text": [
            "Input h1: 0.48\n",
            "Input h2: 0.03\n",
            "Output h1: 0.62\n",
            "Output h2: 0.51\n",
            "Input o1: 3.3058\n",
            "Output o1: 0.96\n",
            "Network MSE: 0.002\n"
          ]
        }
      ]
    },
    {
      "cell_type": "code",
      "metadata": {
        "colab": {
          "base_uri": "https://localhost:8080/"
        },
        "id": "4L8BDyDweah5",
        "outputId": "3cd77522-63c1-47a6-867a-18ed5ab6fe03"
      },
      "source": [
        "RMSE = round(math.sqrt((pow((1 - o1_output), 2) + pow((1 - o1_output_1), 2) + pow((1 - o1_output_2), 2)) / 3), 3)\n",
        "print('Network RMSE: ')\n",
        "print(RMSE)"
      ],
      "execution_count": 22,
      "outputs": [
        {
          "output_type": "stream",
          "name": "stdout",
          "text": [
            "Network RMSE: \n",
            "0.28\n"
          ]
        }
      ]
    }
  ]
}